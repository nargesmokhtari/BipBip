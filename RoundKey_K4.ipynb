{
  "nbformat": 4,
  "nbformat_minor": 0,
  "metadata": {
    "colab": {
      "provenance": []
    },
    "kernelspec": {
      "name": "python3",
      "display_name": "Python 3"
    },
    "language_info": {
      "name": "python"
    }
  },
  "cells": [
    {
      "cell_type": "code",
      "execution_count": 1,
      "metadata": {
        "id": "so8yfGVx1QNM"
      },
      "outputs": [],
      "source": [
        "BBB = [0x00, 0x01, 0x02, 0x03, 0x04, 0x06, 0x3e, 0x3c, 0x08, 0x11, 0x0e, 0x17, 0x2b, 0x33, 0x35, 0x2d, 0x19, 0x1c, 0x09, 0x0c, 0x15, 0x13, 0x3d, 0x3b, 0x31, 0x2c, 0x25, 0x38, 0x3a, 0x26, 0x36, 0x2a, 0x34, 0x1d, 0x37, 0x1e, 0x30, 0x1a, 0x0b, 0x21, 0x2e, 0x1f, 0x29, 0x18, 0x0f, 0x3f, 0x10, 0x20, 0x28, 0x05, 0x39, 0x14, 0x24, 0x0a, 0x0d, 0x23, 0x12, 0x27, 0x07, 0x32, 0x1b, 0x2f, 0x16, 0x22]\n",
        "IBBB = [0x00, 0x01, 0x02, 0x03, 0x04, 0x31, 0x05, 0x3a, 0x08, 0x12, 0x35, 0x26, 0x13, 0x36, 0x0a, 0x2c, 0x2e, 0x09, 0x38, 0x15, 0x33, 0x14, 0x3e, 0x0b, 0x2b, 0x10, 0x25, 0x3c, 0x11, 0x21, 0x23, 0x29, 0x2f, 0x27, 0x3f, 0x37, 0x34, 0x1a, 0x1d, 0x39, 0x30, 0x2a, 0x1f, 0x0c, 0x19, 0x0f, 0x28, 0x3d, 0x24, 0x18, 0x3b, 0x0d, 0x20, 0x0e, 0x1e, 0x22, 0x1b, 0x32, 0x1c, 0x17, 0x07, 0x16, 0x06, 0x2d]\n",
        "\n",
        "IPI1 = [3, 0, 4, 19, 20, 23, 2, 1, 5, 18, 21, 22, 6, 9, 10, 13, 14, 17, 7, 8, 11, 12, 15, 16]\n",
        "IPI2 = [0, 1, 6, 7, 2, 3, 8, 9, 4, 5, 10, 11, 13, 14, 19, 18, 12, 15, 20, 21, 16, 17, 22, 23]\n",
        "IPI3 = [6, 14, 4, 19, 18, 3, 7, 15, 5, 23, 22, 2, 10, 9, 12, 13, 0, 20, 11, 8, 17, 16, 1, 21]\n",
        "\n",
        "# Inverse Bit-Permutation with PI2\n",
        "def IBPL2(x):\n",
        "    y = [False for _ in range(24)]\n",
        "    for i in range(0, 24):\n",
        "        y[i] = x[IPI2[i]]\n",
        "    for i in range(0, 24):\n",
        "        x[i] = y[i]\n",
        "\n",
        "# Inverse Linear Mixing Layer in Data Path: inv_theta_d\n",
        "def ILML1(x):\n",
        "    y = [False for _ in range(24)]\n",
        "    for i in range(0, 24):\n",
        "        y[i] = x[(i + 8) % 24] ^ x[(i + 20) % 24] ^ x[(i + 22) % 24]\n",
        "    for i in range(0, 24):\n",
        "        x[i] = y[i]\n",
        "\n",
        "# Inverse Bit-Permutation with IPI1\n",
        "def IBPL1(x):\n",
        "    y = [False for _ in range(24)]\n",
        "    for i in range(0, 24):\n",
        "        y[i] = x[IPI1[i]]\n",
        "    for i in range(0, 24):\n",
        "        x[i] = y[i]\n",
        "\n",
        "def ISBL(x):\n",
        "    IBBB = [0x00, 0x01, 0x02, 0x03, 0x04, 0x31, 0x05, 0x3a, 0x08, 0x12, 0x35, 0x26, 0x13, 0x36, 0x0a, 0x2c, 0x2e,\n",
        "            0x09, 0x38, 0x15, 0x33, 0x14, 0x3e, 0x0b, 0x2b, 0x10, 0x25, 0x3c, 0x11, 0x21, 0x23, 0x29, 0x2f, 0x27,\n",
        "            0x3f, 0x37, 0x34, 0x1a, 0x1d, 0x39, 0x30, 0x2a, 0x1f, 0x0c, 0x19, 0x0f, 0x28, 0x3d, 0x24, 0x18, 0x3b,\n",
        "            0x0d, 0x20, 0x0e, 0x1e, 0x22, 0x1b, 0x32, 0x1c, 0x17, 0x07, 0x16, 0x06, 0x2d]\n",
        "\n",
        "    for j in range(0, 4):\n",
        "        i = 6 * j + 5\n",
        "        a = 1 if x[i] == 1 else 0\n",
        "        for k in range(5):\n",
        "            i -= 1\n",
        "            a <<= 1\n",
        "            a ^= 1 if x[i] == 1 else 0\n",
        "        a = IBBB[a]\n",
        "        i = 6 * j + 5\n",
        "        for k in range(6):\n",
        "            x[i - k] = (a >> (5 - k)) & 1\n",
        "\n",
        "def IRFC(x):\n",
        "    IBPL2(x)\n",
        "    ILML1(x)\n",
        "    IBPL1(x)\n",
        "    ISBL(x)\n",
        "\n",
        "def IBPL3(x):\n",
        "    y = [0 for _ in range(24)]\n",
        "    for i in range(0, 24):\n",
        "        y[i] = x[IPI3[i]]\n",
        "    for i in range(0, 24):\n",
        "        x[i] = y[i]\n"
      ]
    },
    {
      "cell_type": "markdown",
      "source": [
        "Define Round Key 4 And Initilize Lists"
      ],
      "metadata": {
        "id": "1ZxELAIG3SZC"
      }
    },
    {
      "cell_type": "code",
      "source": [
        "selected_indices = [7, 15, 5, 23, 22, 2]\n",
        "real_k4 = '000000000011000000011100'\n",
        "k4_list= []\n",
        "k4_list_valid = []\n",
        "\n",
        "for j in range(2**24):\n",
        "    k4_list.append(format(j, '024b'))"
      ],
      "metadata": {
        "id": "ImPRyPsH1dap"
      },
      "execution_count": 2,
      "outputs": []
    },
    {
      "cell_type": "markdown",
      "source": [
        "Injecting First Fault"
      ],
      "metadata": {
        "id": "OArTi8g73IbM"
      }
    },
    {
      "cell_type": "code",
      "source": [
        "#fault1\n",
        "correct_round4 = '001110001011010110000010'\n",
        "faulty_round4  = '111001110000110000100011'\n",
        "\n",
        "for k4 in k4_list:\n",
        "    result2 = int(k4, 2) ^ int(faulty_round4, 2)\n",
        "    result2_h = format(result2, '024b')\n",
        "    input_list_faulty = [int(bit) for bit in result2_h]\n",
        "    IRFC(input_list_faulty)\n",
        "    output_binary_faulty = ''.join(map(str, input_list_faulty))\n",
        "\n",
        "    # Permutation round 10\n",
        "    permutation_round10 = [int(bit) for bit in output_binary_faulty]\n",
        "    IBPL3(permutation_round10)\n",
        "    output_permutation_round10 = ''.join(map(str, permutation_round10))\n",
        "\n",
        "    # Extracting sbox2 6 bits\n",
        "    sbox2_bits_faulty = output_permutation_round10[6:12]\n",
        "    # Extracting sbox3 6 bits\n",
        "    sbox3_bits_faulty = output_permutation_round10[12:18]\n",
        "\n",
        "\n",
        "    result2_c = int(k4, 2) ^ int(correct_round4, 2)\n",
        "    result2_h_c = format(result2_c, '024b')\n",
        "    input_list_correct = [int(bit) for bit in result2_h_c]\n",
        "    IRFC(input_list_correct)\n",
        "    output_binary_correct = ''.join(map(str, input_list_correct))\n",
        "\n",
        "    # Permutation round 10\n",
        "    permutation_round10_correct = [int(bit) for bit in output_binary_correct]\n",
        "    IBPL3(permutation_round10_correct)\n",
        "    output_permutation_round10_correct = ''.join(map(str, permutation_round10_correct))\n",
        "\n",
        "    # Extracting sbox2 6 bits\n",
        "    sbox2_bits_correct = output_permutation_round10_correct[6:12]\n",
        "    # Extracting sbox3 6 bits\n",
        "    sbox3_bits_correct = output_permutation_round10_correct[12:18]\n",
        "\n",
        "    # XOR sbox 2\n",
        "    result_xor = \"\".join([str(int(bit1) ^ int(bit2)) for bit1, bit2 in zip(sbox2_bits_faulty, sbox2_bits_correct)])\n",
        "    reversed_result_xor = result_xor[::-1]\n",
        "    hex_result = hex(int(reversed_result_xor, 2))\n",
        "\n",
        "    # XOR sbox 3\n",
        "    result_xor_3 = \"\".join([str(int(bit1) ^ int(bit2)) for bit1, bit2 in zip(sbox3_bits_faulty, sbox3_bits_correct)])\n",
        "    reversed_result_xor_3 = result_xor_3[::-1]\n",
        "    hex_result_3 = hex(int(reversed_result_xor_3, 2))\n",
        "\n",
        "    if hex_result in ['0x0','0x2', '0x3', '0x6', '0x7', '0xc','0xd','0x10','0x11','0x14','0x15','0x1e','0x1f','0x28','0x29','0x3a','0x3b'] and \\\n",
        "       hex_result_3 in ['0x0','0x1','0x2','0x6','0x8','0xb','0xc','0x10','0x11','0x14','0x1a','0x1b','0x1e','0x22','0x25','0x26','0x28','0x2c','0x2f','0x30','0x34','0x35','0x3a','0x3e','0x3f']:\n",
        "       k4_list_valid.append(k4)\n",
        "\n",
        "print(\"len k4 list valid\", len(k4_list_valid))\n",
        "\n",
        "if real_k4 in k4_list_valid:\n",
        "    print('round key k4 found!')\n"
      ],
      "metadata": {
        "colab": {
          "base_uri": "https://localhost:8080/"
        },
        "id": "p3IOJ6bH1n5x",
        "outputId": "72ec80eb-ce09-4e47-bf83-1c03abdd27e9"
      },
      "execution_count": 3,
      "outputs": [
        {
          "output_type": "stream",
          "name": "stdout",
          "text": [
            "len k4 list valid 2847232\n",
            "round key k4 found!\n"
          ]
        }
      ]
    },
    {
      "cell_type": "markdown",
      "source": [
        "Injecting Second Fault"
      ],
      "metadata": {
        "id": "5Y1IT8Hi3wVC"
      }
    },
    {
      "cell_type": "code",
      "source": [
        "#fault 2\n",
        "correct_round4 = '111100101101010111010010'\n",
        "faulty_round4  = '001101011111100001110011'\n",
        "k4_list_valid2=[]\n",
        "for k4 in k4_list_valid:\n",
        "    result2 = int(k4, 2) ^ int(faulty_round4, 2)\n",
        "    result2_h = format(result2, '024b')\n",
        "    input_list_faulty = [int(bit) for bit in result2_h]\n",
        "    IRFC(input_list_faulty)\n",
        "    output_binary_faulty = ''.join(map(str, input_list_faulty))\n",
        "\n",
        "    # Permutation round 10\n",
        "    permutation_round10 = [int(bit) for bit in output_binary_faulty]\n",
        "    IBPL3(permutation_round10)\n",
        "    output_permutation_round10 = ''.join(map(str, permutation_round10))\n",
        "\n",
        "    # Extracting sbox2 6 bits\n",
        "    sbox2_bits_faulty = output_permutation_round10[6:12]\n",
        "    # Extracting sbox3 6 bits\n",
        "    sbox3_bits_faulty = output_permutation_round10[12:18]\n",
        "\n",
        "    result2_c = int(k4, 2) ^ int(correct_round4, 2)\n",
        "    result2_h_c = format(result2_c, '024b')\n",
        "    input_list_correct = [int(bit) for bit in result2_h_c]\n",
        "    IRFC(input_list_correct)\n",
        "    output_binary_correct = ''.join(map(str, input_list_correct))\n",
        "\n",
        "    # Permutation round 10\n",
        "    permutation_round10_correct = [int(bit) for bit in output_binary_correct]\n",
        "    IBPL3(permutation_round10_correct)\n",
        "    output_permutation_round10_correct = ''.join(map(str, permutation_round10_correct))\n",
        "\n",
        "    # Extracting sbox2 6 bits\n",
        "    sbox2_bits_correct = output_permutation_round10_correct[6:12]\n",
        "    # Extracting sbox3 6 bits\n",
        "    sbox3_bits_correct = output_permutation_round10_correct[12:18]\n",
        "\n",
        "    # XOR sbox 2\n",
        "    result_xor = \"\".join([str(int(bit1) ^ int(bit2)) for bit1, bit2 in zip(sbox2_bits_faulty, sbox2_bits_correct)])\n",
        "    reversed_result_xor = result_xor[::-1]\n",
        "    hex_result = hex(int(reversed_result_xor, 2))\n",
        "\n",
        "    # XOR sbox 3\n",
        "    result_xor_3 = \"\".join([str(int(bit1) ^ int(bit2)) for bit1, bit2 in zip(sbox3_bits_faulty, sbox3_bits_correct)])\n",
        "    reversed_result_xor_3 = result_xor_3[::-1]\n",
        "    hex_result_3 = hex(int(reversed_result_xor_3, 2))\n",
        "\n",
        "    if hex_result in ['0x0','0x2', '0x3', '0x6', '0x7', '0xc','0xd','0x10','0x11','0x14','0x15','0x1e','0x1f','0x28','0x29','0x3a','0x3b'] and \\\n",
        "       hex_result_3 in ['0x0','0x1','0x2','0x6','0x8','0xb','0xc','0x10','0x11','0x14','0x1a','0x1b','0x1e','0x22','0x25','0x26','0x28','0x2c','0x2f','0x30','0x34','0x35','0x3a','0x3e','0x3f']:\n",
        "       k4_list_valid2.append(k4)\n",
        "\n",
        "print(\"len k4 list valid\", len(k4_list_valid2))\n",
        "if real_k4 in k4_list_valid2:\n",
        "    print('round key k4 found!')\n"
      ],
      "metadata": {
        "colab": {
          "base_uri": "https://localhost:8080/"
        },
        "id": "m-y2Vdvf1tej",
        "outputId": "9be7a582-0a62-4429-efc3-6c9262fa8916"
      },
      "execution_count": 4,
      "outputs": [
        {
          "output_type": "stream",
          "name": "stdout",
          "text": [
            "len k4 list valid 376496\n",
            "round key k4 found!\n"
          ]
        }
      ]
    },
    {
      "cell_type": "markdown",
      "source": [
        "Injecting Third Fault"
      ],
      "metadata": {
        "id": "NXD7CZrX3y8q"
      }
    },
    {
      "cell_type": "code",
      "source": [
        "#fault 3\n",
        "correct_round4 = '111001101101100101000110'\n",
        "faulty_round4  = '000101110010110011001001'\n",
        "k4_list_valid3=[]\n",
        "for k4 in k4_list_valid2:\n",
        "    result2 = int(k4, 2) ^ int(faulty_round4, 2)\n",
        "    result2_h = format(result2, '024b')\n",
        "    input_list_faulty = [int(bit) for bit in result2_h]\n",
        "    IRFC(input_list_faulty)\n",
        "    output_binary_faulty = ''.join(map(str, input_list_faulty))\n",
        "\n",
        "    # Permutation round 10\n",
        "    permutation_round10 = [int(bit) for bit in output_binary_faulty]\n",
        "    IBPL3(permutation_round10)\n",
        "    output_permutation_round10 = ''.join(map(str, permutation_round10))\n",
        "\n",
        "    # Extracting sbox2 6 bits\n",
        "    sbox2_bits_faulty = output_permutation_round10[6:12]\n",
        "    # Extracting sbox3 6 bits\n",
        "    sbox3_bits_faulty = output_permutation_round10[12:18]\n",
        "\n",
        "\n",
        "    result2_c = int(k4, 2) ^ int(correct_round4, 2)\n",
        "    result2_h_c = format(result2_c, '024b')\n",
        "    input_list_correct = [int(bit) for bit in result2_h_c]\n",
        "    IRFC(input_list_correct)\n",
        "    output_binary_correct = ''.join(map(str, input_list_correct))\n",
        "\n",
        "    # Permutation round 10\n",
        "    permutation_round10_correct = [int(bit) for bit in output_binary_correct]\n",
        "    IBPL3(permutation_round10_correct)\n",
        "    output_permutation_round10_correct = ''.join(map(str, permutation_round10_correct))\n",
        "\n",
        "    # Extracting sbox2 6 bits\n",
        "    sbox2_bits_correct = output_permutation_round10_correct[6:12]\n",
        "    # Extracting sbox3 6 bits\n",
        "    sbox3_bits_correct = output_permutation_round10_correct[12:18]\n",
        "\n",
        "    # XOR sbox 2\n",
        "    result_xor = \"\".join([str(int(bit1) ^ int(bit2)) for bit1, bit2 in zip(sbox2_bits_faulty, sbox2_bits_correct)])\n",
        "    reversed_result_xor = result_xor[::-1]\n",
        "    hex_result = hex(int(reversed_result_xor, 2))\n",
        "\n",
        "    # XOR sbox 3\n",
        "    result_xor_3 = \"\".join([str(int(bit1) ^ int(bit2)) for bit1, bit2 in zip(sbox3_bits_faulty, sbox3_bits_correct)])\n",
        "    reversed_result_xor_3 = result_xor_3[::-1]\n",
        "    hex_result_3 = hex(int(reversed_result_xor_3, 2))\n",
        "\n",
        "    if hex_result in ['0x0','0x2', '0x3', '0x6', '0x7', '0xc','0xd','0x10','0x11','0x14','0x15','0x1e','0x1f','0x28','0x29','0x3a','0x3b'] and \\\n",
        "       hex_result_3 in ['0x0','0x1','0x2','0x6','0x8','0xb','0xc','0x10','0x11','0x14','0x1a','0x1b','0x1e','0x22','0x25','0x26','0x28','0x2c','0x2f','0x30','0x34','0x35','0x3a','0x3e','0x3f']:\n",
        "       k4_list_valid3.append(k4)\n",
        "\n",
        "print(\"len k4 list valid\", len(k4_list_valid3))\n",
        "\n",
        "if real_k4 in k4_list_valid3:\n",
        "    print('round key k4 found!')\n"
      ],
      "metadata": {
        "colab": {
          "base_uri": "https://localhost:8080/"
        },
        "id": "q8WSmUsP21ZS",
        "outputId": "15909f25-ba91-47dd-e31c-bb9d289f0078"
      },
      "execution_count": 5,
      "outputs": [
        {
          "output_type": "stream",
          "name": "stdout",
          "text": [
            "len k4 list valid 53328\n",
            "round key k4 found!\n"
          ]
        }
      ]
    },
    {
      "cell_type": "markdown",
      "source": [
        "Injecting Fourth Fault"
      ],
      "metadata": {
        "id": "gpoDRrSd31sS"
      }
    },
    {
      "cell_type": "code",
      "source": [
        "#fault 4\n",
        "correct_round4 = '011111001001110011110110'\n",
        "faulty_round4  = '100111000100011110011011'\n",
        "k4_list_valid4=[]\n",
        "for k4 in k4_list_valid3:\n",
        "    result2 = int(k4, 2) ^ int(faulty_round4, 2)\n",
        "    result2_h = format(result2, '024b')\n",
        "    input_list_faulty = [int(bit) for bit in result2_h]\n",
        "    IRFC(input_list_faulty)\n",
        "    output_binary_faulty = ''.join(map(str, input_list_faulty))\n",
        "\n",
        "    # Permutation round 10\n",
        "    permutation_round10 = [int(bit) for bit in output_binary_faulty]\n",
        "    IBPL3(permutation_round10)\n",
        "    output_permutation_round10 = ''.join(map(str, permutation_round10))\n",
        "\n",
        "    # Extracting sbox2 6 bits\n",
        "    sbox2_bits_faulty = output_permutation_round10[6:12]\n",
        "    # Extracting sbox3 6 bits\n",
        "    sbox3_bits_faulty = output_permutation_round10[12:18]\n",
        "\n",
        "\n",
        "    result2_c = int(k4, 2) ^ int(correct_round4, 2)\n",
        "    result2_h_c = format(result2_c, '024b')\n",
        "    input_list_correct = [int(bit) for bit in result2_h_c]\n",
        "    IRFC(input_list_correct)\n",
        "    output_binary_correct = ''.join(map(str, input_list_correct))\n",
        "\n",
        "    # Permutation round 10\n",
        "    permutation_round10_correct = [int(bit) for bit in output_binary_correct]\n",
        "    IBPL3(permutation_round10_correct)\n",
        "    output_permutation_round10_correct = ''.join(map(str, permutation_round10_correct))\n",
        "\n",
        "    # Extracting sbox2 6 bits\n",
        "    sbox2_bits_correct = output_permutation_round10_correct[6:12]\n",
        "    # Extracting sbox3 6 bits\n",
        "    sbox3_bits_correct = output_permutation_round10_correct[12:18]\n",
        "\n",
        "    # XOR sbox 2\n",
        "    result_xor = \"\".join([str(int(bit1) ^ int(bit2)) for bit1, bit2 in zip(sbox2_bits_faulty, sbox2_bits_correct)])\n",
        "    reversed_result_xor = result_xor[::-1]\n",
        "    hex_result = hex(int(reversed_result_xor, 2))\n",
        "\n",
        "    # XOR sbox 3\n",
        "    result_xor_3 = \"\".join([str(int(bit1) ^ int(bit2)) for bit1, bit2 in zip(sbox3_bits_faulty, sbox3_bits_correct)])\n",
        "    reversed_result_xor_3 = result_xor_3[::-1]\n",
        "    hex_result_3 = hex(int(reversed_result_xor_3, 2))\n",
        "\n",
        "    if hex_result in ['0x0','0x2', '0x3', '0x6', '0x7', '0xc','0xd','0x10','0x11','0x14','0x15','0x1e','0x1f','0x28','0x29','0x3a','0x3b'] and \\\n",
        "       hex_result_3 in ['0x0','0x1','0x2','0x6','0x8','0xb','0xc','0x10','0x11','0x14','0x1a','0x1b','0x1e','0x22','0x25','0x26','0x28','0x2c','0x2f','0x30','0x34','0x35','0x3a','0x3e','0x3f']:\n",
        "       k4_list_valid4.append(k4)\n",
        "\n",
        "print(\"len k4 list valid\", len(k4_list_valid4))\n",
        "\n",
        "if real_k4 in k4_list_valid4:\n",
        "    print('round key k4 found!')\n",
        "\n",
        "\n",
        ""
      ],
      "metadata": {
        "colab": {
          "base_uri": "https://localhost:8080/"
        },
        "id": "-fQA98NW28Yi",
        "outputId": "791191fc-80f1-4780-a690-c2488a377c3f"
      },
      "execution_count": 6,
      "outputs": [
        {
          "output_type": "stream",
          "name": "stdout",
          "text": [
            "len k4 list valid 5435\n",
            "round key k4 found!\n"
          ]
        }
      ]
    },
    {
      "cell_type": "markdown",
      "source": [
        "Injecting Fifth Fault"
      ],
      "metadata": {
        "id": "D67SDPnd4CW7"
      }
    },
    {
      "cell_type": "code",
      "source": [
        "#fault 5\n",
        "correct_round4 = '101011100000010101000111'\n",
        "faulty_round4  = '001001100111000000001011'\n",
        "k4_list_valid5=[]\n",
        "for k4 in k4_list_valid4:\n",
        "    result2 = int(k4, 2) ^ int(faulty_round4, 2)\n",
        "    result2_h = format(result2, '024b')\n",
        "    input_list_faulty = [int(bit) for bit in result2_h]\n",
        "    IRFC(input_list_faulty)\n",
        "    output_binary_faulty = ''.join(map(str, input_list_faulty))\n",
        "\n",
        "    # Permutation round 10\n",
        "    permutation_round10 = [int(bit) for bit in output_binary_faulty]\n",
        "    IBPL3(permutation_round10)\n",
        "    output_permutation_round10 = ''.join(map(str, permutation_round10))\n",
        "\n",
        "    # Extracting sbox2 6 bits\n",
        "    sbox2_bits_faulty = output_permutation_round10[6:12]\n",
        "    # Extracting sbox3 6 bits\n",
        "    sbox3_bits_faulty = output_permutation_round10[12:18]\n",
        "\n",
        "\n",
        "    result2_c = int(k4, 2) ^ int(correct_round4, 2)\n",
        "    result2_h_c = format(result2_c, '024b')\n",
        "    input_list_correct = [int(bit) for bit in result2_h_c]\n",
        "    IRFC(input_list_correct)\n",
        "    output_binary_correct = ''.join(map(str, input_list_correct))\n",
        "\n",
        "    # Permutation round 10\n",
        "    permutation_round10_correct = [int(bit) for bit in output_binary_correct]\n",
        "    IBPL3(permutation_round10_correct)\n",
        "    output_permutation_round10_correct = ''.join(map(str, permutation_round10_correct))\n",
        "\n",
        "    # Extracting sbox2 6 bits\n",
        "    sbox2_bits_correct = output_permutation_round10_correct[6:12]\n",
        "    # Extracting sbox3 6 bits\n",
        "    sbox3_bits_correct = output_permutation_round10_correct[12:18]\n",
        "\n",
        "    # XOR sbox 2\n",
        "    result_xor = \"\".join([str(int(bit1) ^ int(bit2)) for bit1, bit2 in zip(sbox2_bits_faulty, sbox2_bits_correct)])\n",
        "    reversed_result_xor = result_xor[::-1]\n",
        "    hex_result = hex(int(reversed_result_xor, 2))\n",
        "\n",
        "    # XOR sbox 3\n",
        "    result_xor_3 = \"\".join([str(int(bit1) ^ int(bit2)) for bit1, bit2 in zip(sbox3_bits_faulty, sbox3_bits_correct)])\n",
        "    reversed_result_xor_3 = result_xor_3[::-1]\n",
        "    hex_result_3 = hex(int(reversed_result_xor_3, 2))\n",
        "\n",
        "    if hex_result in ['0x0','0x2', '0x3', '0x6', '0x7', '0xc','0xd','0x10','0x11','0x14','0x15','0x1e','0x1f','0x28','0x29','0x3a','0x3b'] and \\\n",
        "       hex_result_3 in ['0x0','0x1','0x2','0x6','0x8','0xb','0xc','0x10','0x11','0x14','0x1a','0x1b','0x1e','0x22','0x25','0x26','0x28','0x2c','0x2f','0x30','0x34','0x35','0x3a','0x3e','0x3f']:\n",
        "       k4_list_valid5.append(k4)\n",
        "\n",
        "print(\"len k4 list valid\", len(k4_list_valid5))\n",
        "\n",
        "if real_k4 in k4_list_valid5:\n",
        "    print('round key k4 found!')\n"
      ],
      "metadata": {
        "colab": {
          "base_uri": "https://localhost:8080/"
        },
        "id": "BSebBaMX3Aws",
        "outputId": "fc9da407-97f4-4381-abff-2355e7c95104"
      },
      "execution_count": 7,
      "outputs": [
        {
          "output_type": "stream",
          "name": "stdout",
          "text": [
            "len k4 list valid 961\n",
            "round key k4 found!\n"
          ]
        }
      ]
    },
    {
      "cell_type": "markdown",
      "source": [
        "Injecting Sixth Fault"
      ],
      "metadata": {
        "id": "LvFl_wAY4Pgp"
      }
    },
    {
      "cell_type": "code",
      "source": [
        "#fault 6\n",
        "correct_round4 = '001010000110000001110011'\n",
        "faulty_round4  = '000100111000011001001101'\n",
        "k4_list_valid6=[]\n",
        "for k4 in k4_list_valid5:\n",
        "    result2 = int(k4, 2) ^ int(faulty_round4, 2)\n",
        "    result2_h = format(result2, '024b')\n",
        "    input_list_faulty = [int(bit) for bit in result2_h]\n",
        "    IRFC(input_list_faulty)\n",
        "    output_binary_faulty = ''.join(map(str, input_list_faulty))\n",
        "\n",
        "    # Permutation round 10\n",
        "    permutation_round10 = [int(bit) for bit in output_binary_faulty]\n",
        "    IBPL3(permutation_round10)\n",
        "    output_permutation_round10 = ''.join(map(str, permutation_round10))\n",
        "\n",
        "    # Extracting sbox2 6 bits\n",
        "    sbox2_bits_faulty = output_permutation_round10[6:12]\n",
        "    # Extracting sbox3 6 bits\n",
        "    sbox3_bits_faulty = output_permutation_round10[12:18]\n",
        "\n",
        "\n",
        "    result2_c = int(k4, 2) ^ int(correct_round4, 2)\n",
        "    result2_h_c = format(result2_c, '024b')\n",
        "    input_list_correct = [int(bit) for bit in result2_h_c]\n",
        "    IRFC(input_list_correct)\n",
        "    output_binary_correct = ''.join(map(str, input_list_correct))\n",
        "\n",
        "    # Permutation round 10\n",
        "    permutation_round10_correct = [int(bit) for bit in output_binary_correct]\n",
        "    IBPL3(permutation_round10_correct)\n",
        "    output_permutation_round10_correct = ''.join(map(str, permutation_round10_correct))\n",
        "\n",
        "    # Extracting sbox2 6 bits\n",
        "    sbox2_bits_correct = output_permutation_round10_correct[6:12]\n",
        "    # Extracting sbox3 6 bits\n",
        "    sbox3_bits_correct = output_permutation_round10_correct[12:18]\n",
        "\n",
        "    # XOR sbox 2\n",
        "    result_xor = \"\".join([str(int(bit1) ^ int(bit2)) for bit1, bit2 in zip(sbox2_bits_faulty, sbox2_bits_correct)])\n",
        "    reversed_result_xor = result_xor[::-1]\n",
        "    hex_result = hex(int(reversed_result_xor, 2))\n",
        "\n",
        "    # XOR sbox 3\n",
        "    result_xor_3 = \"\".join([str(int(bit1) ^ int(bit2)) for bit1, bit2 in zip(sbox3_bits_faulty, sbox3_bits_correct)])\n",
        "    reversed_result_xor_3 = result_xor_3[::-1]\n",
        "    hex_result_3 = hex(int(reversed_result_xor_3, 2))\n",
        "\n",
        "    if hex_result in ['0x0','0x2', '0x3', '0x6', '0x7', '0xc','0xd','0x10','0x11','0x14','0x15','0x1e','0x1f','0x28','0x29','0x3a','0x3b'] and \\\n",
        "       hex_result_3 in ['0x0','0x1','0x2','0x6','0x8','0xb','0xc','0x10','0x11','0x14','0x1a','0x1b','0x1e','0x22','0x25','0x26','0x28','0x2c','0x2f','0x30','0x34','0x35','0x3a','0x3e','0x3f']:\n",
        "       k4_list_valid6.append(k4)\n",
        "\n",
        "print(\"len k4 list valid\", len(k4_list_valid6))\n",
        "\n",
        "if real_k4 in k4_list_valid6:\n",
        "    print('round key k4 found!')"
      ],
      "metadata": {
        "colab": {
          "base_uri": "https://localhost:8080/"
        },
        "id": "DpdlSmYa3EYp",
        "outputId": "7c342207-eed7-4091-f76a-878b648173e8"
      },
      "execution_count": 8,
      "outputs": [
        {
          "output_type": "stream",
          "name": "stdout",
          "text": [
            "len k4 list valid 220\n",
            "round key k4 found!\n"
          ]
        }
      ]
    },
    {
      "cell_type": "markdown",
      "source": [
        "Injecting seventh Fault"
      ],
      "metadata": {
        "id": "TvT4iouGDmaA"
      }
    },
    {
      "cell_type": "code",
      "source": [
        "#fault 7\n",
        "correct_round4 = '000111110011011001100101'\n",
        "faulty_round4  = '110110100101011111001000'\n",
        "k4_list_valid7=[]\n",
        "for k4 in k4_list_valid6:\n",
        "    result2 = int(k4, 2) ^ int(faulty_round4, 2)\n",
        "    result2_h = format(result2, '024b')\n",
        "    input_list_faulty = [int(bit) for bit in result2_h]\n",
        "    IRFC(input_list_faulty)\n",
        "    output_binary_faulty = ''.join(map(str, input_list_faulty))\n",
        "\n",
        "    # Permutation round 10\n",
        "    permutation_round10 = [int(bit) for bit in output_binary_faulty]\n",
        "    IBPL3(permutation_round10)\n",
        "    output_permutation_round10 = ''.join(map(str, permutation_round10))\n",
        "\n",
        "    # Extracting sbox2 6 bits\n",
        "    sbox2_bits_faulty = output_permutation_round10[6:12]\n",
        "    # Extracting sbox3 6 bits\n",
        "    sbox3_bits_faulty = output_permutation_round10[12:18]\n",
        "\n",
        "\n",
        "    result2_c = int(k4, 2) ^ int(correct_round4, 2)\n",
        "    result2_h_c = format(result2_c, '024b')\n",
        "    input_list_correct = [int(bit) for bit in result2_h_c]\n",
        "    IRFC(input_list_correct)\n",
        "    output_binary_correct = ''.join(map(str, input_list_correct))\n",
        "\n",
        "    # Permutation round 10\n",
        "    permutation_round10_correct = [int(bit) for bit in output_binary_correct]\n",
        "    IBPL3(permutation_round10_correct)\n",
        "    output_permutation_round10_correct = ''.join(map(str, permutation_round10_correct))\n",
        "\n",
        "    # Extracting sbox2 6 bits\n",
        "    sbox2_bits_correct = output_permutation_round10_correct[6:12]\n",
        "    # Extracting sbox3 6 bits\n",
        "    sbox3_bits_correct = output_permutation_round10_correct[12:18]\n",
        "\n",
        "    # XOR sbox 2\n",
        "    result_xor = \"\".join([str(int(bit1) ^ int(bit2)) for bit1, bit2 in zip(sbox2_bits_faulty, sbox2_bits_correct)])\n",
        "    reversed_result_xor = result_xor[::-1]\n",
        "    hex_result = hex(int(reversed_result_xor, 2))\n",
        "\n",
        "    # XOR sbox 3\n",
        "    result_xor_3 = \"\".join([str(int(bit1) ^ int(bit2)) for bit1, bit2 in zip(sbox3_bits_faulty, sbox3_bits_correct)])\n",
        "    reversed_result_xor_3 = result_xor_3[::-1]\n",
        "    hex_result_3 = hex(int(reversed_result_xor_3, 2))\n",
        "\n",
        "    if hex_result in ['0x0','0x2', '0x3', '0x6', '0x7', '0xc','0xd','0x10','0x11','0x14','0x15','0x1e','0x1f','0x28','0x29','0x3a','0x3b'] and \\\n",
        "       hex_result_3 in ['0x0','0x1','0x2','0x6','0x8','0xb','0xc','0x10','0x11','0x14','0x1a','0x1b','0x1e','0x22','0x25','0x26','0x28','0x2c','0x2f','0x30','0x34','0x35','0x3a','0x3e','0x3f']:\n",
        "       k4_list_valid7.append(k4)\n",
        "\n",
        "print(\"len k4 list valid\", len(k4_list_valid7))\n",
        "\n",
        "if real_k4 in k4_list_valid7:\n",
        "    print('round key k4 found!')"
      ],
      "metadata": {
        "colab": {
          "base_uri": "https://localhost:8080/"
        },
        "id": "APSReS9y_7bE",
        "outputId": "0faf6426-c673-4788-d481-eb74dd10e2fe"
      },
      "execution_count": 9,
      "outputs": [
        {
          "output_type": "stream",
          "name": "stdout",
          "text": [
            "len k4 list valid 75\n",
            "round key k4 found!\n"
          ]
        }
      ]
    },
    {
      "cell_type": "markdown",
      "source": [
        "Injecting eighth Fault"
      ],
      "metadata": {
        "id": "9yD0zx-pF6nB"
      }
    },
    {
      "cell_type": "code",
      "source": [
        "#fault 7\n",
        "correct_round4 = '100010111111100010011101'\n",
        "faulty_round4  = '010110111101001001100000'\n",
        "k4_list_valid8=[]\n",
        "for k4 in k4_list_valid7:\n",
        "    result2 = int(k4, 2) ^ int(faulty_round4, 2)\n",
        "    result2_h = format(result2, '024b')\n",
        "    input_list_faulty = [int(bit) for bit in result2_h]\n",
        "    IRFC(input_list_faulty)\n",
        "    output_binary_faulty = ''.join(map(str, input_list_faulty))\n",
        "\n",
        "    # Permutation round 10\n",
        "    permutation_round10 = [int(bit) for bit in output_binary_faulty]\n",
        "    IBPL3(permutation_round10)\n",
        "    output_permutation_round10 = ''.join(map(str, permutation_round10))\n",
        "\n",
        "    # Extracting sbox2 6 bits\n",
        "    sbox2_bits_faulty = output_permutation_round10[6:12]\n",
        "    # Extracting sbox3 6 bits\n",
        "    sbox3_bits_faulty = output_permutation_round10[12:18]\n",
        "\n",
        "\n",
        "    result2_c = int(k4, 2) ^ int(correct_round4, 2)\n",
        "    result2_h_c = format(result2_c, '024b')\n",
        "    input_list_correct = [int(bit) for bit in result2_h_c]\n",
        "    IRFC(input_list_correct)\n",
        "    output_binary_correct = ''.join(map(str, input_list_correct))\n",
        "\n",
        "    # Permutation round 10\n",
        "    permutation_round10_correct = [int(bit) for bit in output_binary_correct]\n",
        "    IBPL3(permutation_round10_correct)\n",
        "    output_permutation_round10_correct = ''.join(map(str, permutation_round10_correct))\n",
        "\n",
        "    # Extracting sbox2 6 bits\n",
        "    sbox2_bits_correct = output_permutation_round10_correct[6:12]\n",
        "    # Extracting sbox3 6 bits\n",
        "    sbox3_bits_correct = output_permutation_round10_correct[12:18]\n",
        "\n",
        "    # XOR sbox 2\n",
        "    result_xor = \"\".join([str(int(bit1) ^ int(bit2)) for bit1, bit2 in zip(sbox2_bits_faulty, sbox2_bits_correct)])\n",
        "    reversed_result_xor = result_xor[::-1]\n",
        "    hex_result = hex(int(reversed_result_xor, 2))\n",
        "\n",
        "    # XOR sbox 3\n",
        "    result_xor_3 = \"\".join([str(int(bit1) ^ int(bit2)) for bit1, bit2 in zip(sbox3_bits_faulty, sbox3_bits_correct)])\n",
        "    reversed_result_xor_3 = result_xor_3[::-1]\n",
        "    hex_result_3 = hex(int(reversed_result_xor_3, 2))\n",
        "\n",
        "    if hex_result in ['0x0','0x2', '0x3', '0x6', '0x7', '0xc','0xd','0x10','0x11','0x14','0x15','0x1e','0x1f','0x28','0x29','0x3a','0x3b'] and \\\n",
        "       hex_result_3 in ['0x0','0x1','0x2','0x6','0x8','0xb','0xc','0x10','0x11','0x14','0x1a','0x1b','0x1e','0x22','0x25','0x26','0x28','0x2c','0x2f','0x30','0x34','0x35','0x3a','0x3e','0x3f']:\n",
        "       k4_list_valid8.append(k4)\n",
        "\n",
        "print(\"len k4 list valid\", len(k4_list_valid8))\n",
        "\n",
        "if real_k4 in k4_list_valid8:\n",
        "    print('round key k4 found!')"
      ],
      "metadata": {
        "colab": {
          "base_uri": "https://localhost:8080/"
        },
        "id": "klWrk6KWEoxd",
        "outputId": "5af55af0-22ef-41c6-8ffe-914710738623"
      },
      "execution_count": 10,
      "outputs": [
        {
          "output_type": "stream",
          "name": "stdout",
          "text": [
            "len k4 list valid 35\n",
            "round key k4 found!\n"
          ]
        }
      ]
    }
  ]
}